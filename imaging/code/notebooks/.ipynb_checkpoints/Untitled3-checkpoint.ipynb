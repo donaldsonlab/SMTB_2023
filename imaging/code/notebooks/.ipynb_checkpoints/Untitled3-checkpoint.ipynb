{
 "cells": [
  {
   "cell_type": "code",
   "execution_count": 2,
   "id": "650b11cb",
   "metadata": {},
   "outputs": [],
   "source": [
    "import sys\n",
    "sys.path.append(\"scripts\")  # Add the path to the scripts folder\n",
    "#import script_file_1\n",
    "\n",
    "import ipywidgets\n",
    "import h5py\n",
    "import pickle\n",
    "import os\n",
    "import pandas as pd\n",
    "import warnings\n",
    "import numpy as np\n",
    "import matplotlib.pyplot as plt\n",
    "\n",
    "\n",
    "#warnings.filterwarnings('ignore')"
   ]
  },
  {
   "cell_type": "code",
   "execution_count": 7,
   "id": "16afd7f1",
   "metadata": {},
   "outputs": [],
   "source": [
    "# create list of file_paths to loop over and extract data from \n",
    "sess_dir = 'C:/code/SMTB_2023/imaging/data/5546'\n",
    "\n",
    "save_dir = sess_dir + '/5546_total.pkl'\n",
    "\n",
    "# LOAD DATA FROM MULTIPLE SESSIONS\n",
    "C_arrays = []\n",
    "cvs = []\n",
    "boris1s = []\n",
    "\n",
    "# List of files to analyze\n",
    "\n",
    "files_to_analyze = ['/Users/savva/Documents/GitHub/SMTB_2023/imaging/data/5546/day0_corr08_pnr5_total.pkl',\n",
    "                    '/Users/savva/Documents/GitHub/SMTB_2023/imaging/data/5546/day1_corr08_pnr6_total.pkl',\n",
    "                    '/Users/savva/Documents/GitHub/SMTB_2023/imaging/data/5546/day2_corr08_pnr5_total.pkl',\n",
    "                    '/Users/savva/Documents/GitHub/SMTB_2023/imaging/data/5546/day14_corr08_pnr8_total.pkl']\n",
    "\n",
    "#files_to_analyze = ['/Users/savva/Documents/GitHub/SMTB_2023/imaging/data/5573/day0_analysis_results_corr08_pnr8_total.pkl',\n",
    "#                    '/Users/savva/Documents/GitHub/SMTB_2023/imaging/data/5573/day1_analysis_results_corr08_pnr8_total.pkl',\n",
    "#                    '/Users/savva/Documents/GitHub/SMTB_2023/imaging/data/5573/day2_analysis_results_corr08_pnr8_total.pkl',\n",
    "#                    '/Users/savva/Documents/GitHub/SMTB_2023/imaging/data/5573/day14_analysis_results_corr07_pnr7_total.pkl']\n",
    "\n",
    "\n",
    "# Loop through files and store the data\n",
    "for file_path in files_to_analyze:\n",
    "    with open(file_path, 'rb') as file:\n",
    "        C_array, cv, boris1 = pickle.load(file)\n",
    "        C_arrays.append(C_array)\n",
    "        cvs.append(cv)\n",
    "        boris1s.append(boris1)\n",
    "        \n",
    "partnerString = ['left', 'left'] #partner was left on days 2 and 14\n",
    "\n",
    "# on PPT days, there are partners and novels, so lets rename behaviors appropriately so that they're\n",
    "# easily indexable \n",
    "\n",
    "# 5546 - partner on left day 2, \n",
    "\n",
    "day2temp = boris1s[2]\n",
    "day2temp.loc[(day2temp['Behavior'] == 'noncontact investigation')& (day2temp['Subject'] == 'Right'), 'Behavior'] = 'noncontact investigation right'\n",
    "day2temp.loc[(day2temp['Behavior'] == 'noncontact investigation')& (day2temp['Subject'] == 'Left'), 'Behavior'] = 'noncontact investigation left'\n",
    "day2temp.loc[(day2temp['Behavior'] == 'contact investigation')& (day2temp['Subject'] == 'Right'), 'Behavior'] = 'contact investigation right'\n",
    "day2temp.loc[(day2temp['Behavior'] == 'contact investigation')& (day2temp['Subject'] == 'Left'), 'Behavior'] = 'contact investigation left'\n",
    "\n",
    "day2temp.loc[(day2temp['Behavior'] == 'huddle')& (day2temp['Subject'] == 'Right'), 'Behavior'] = 'huddle right'\n",
    "day2temp.loc[(day2temp['Behavior'] == 'huddle')& (day2temp['Subject'] == 'Left'), 'Behavior'] = 'huddle left'\n",
    "\n",
    "\n",
    "boris1s[2] = day2temp\n",
    "\n",
    "day14temp = boris1s[3]\n",
    "day14temp.loc[(day14temp['Behavior'] == 'noncontact investigation')& (day14temp['Subject'] == 'Right'), 'Behavior'] = 'noncontact investigation right'\n",
    "day14temp.loc[(day14temp['Behavior'] == 'noncontact investigation')& (day14temp['Subject'] == 'Left'), 'Behavior'] = 'noncontact investigation left'\n",
    "day14temp.loc[(day14temp['Behavior'] == 'contact investigation')& (day14temp['Subject'] == 'Right'), 'Behavior'] = 'contact investigation right'\n",
    "day14temp.loc[(day14temp['Behavior'] == 'contact investigation')& (day14temp['Subject'] == 'Left'), 'Behavior'] = 'contact investigation left'\n",
    "\n",
    "day14temp.loc[(day14temp['Behavior'] == 'huddle')& (day14temp['Subject'] == 'Right'), 'Behavior'] = 'huddle right'\n",
    "day14temp.loc[(day14temp['Behavior'] == 'huddle')& (day14temp['Subject'] == 'Left'), 'Behavior'] = 'huddle left'\n",
    "\n",
    "boris1s[3] = day14temp"
   ]
  },
  {
   "cell_type": "code",
   "execution_count": 8,
   "id": "9b16a360",
   "metadata": {},
   "outputs": [],
   "source": [
    "import numpy as np\n",
    "from sklearn.metrics import roc_auc_score\n",
    "import pandas as pd\n",
    "import pdb\n",
    "\n",
    "def wws (behavior_data , num_frames):\n",
    "    onsets = np.zeros(num_frames)\n",
    "    for i, row in behavior_data.iterrows():\n",
    "        onsets[row['scopeFrameStart']:row['scopeFrameEnd']+ 1] = 1\n",
    "    return onsets\n",
    "               \n",
    "def qotaqbas (matrix, behavior_df, behavior_names, num_shuffles):\n",
    "    num_neurons = matrix.shape[0]\n",
    "    num_behaviors = len(behavior_names)\n",
    "    auroc_matrix = np.zeros(num_neurons)\n",
    "    p_value_matrix = np.zeros(num_neurons)\n",
    "    \n",
    "    for i in range(num_neurons):\n",
    "        neuron_data = matrix[i, :]\n",
    "        #print(i)\n",
    "        \n",
    "        behavior_data = behavior_df[behavior_df['Behavior'].isin(behavior_names)]\n",
    "            \n",
    "            \n",
    "        if behavior_data.empty:\n",
    "            print(f\"No data found for behavior '{behavior_name}' for neuron {(i+1)}.\")\n",
    "\n",
    "\n",
    "        behavior_onset = wws(behavior_data, matrix.shape[1])\n",
    "\n",
    "        true_auroc = roc_auc_score(behavior_onset, neuron_data)\n",
    "\n",
    "\n",
    "        auroc_matrix[i] = true_auroc\n",
    "\n",
    "        shuffled_aurocs = []\n",
    "        for _ in range(num_shuffles):\n",
    "            shuffled_behavior_data = behavior_data.copy()\n",
    "            shuffled_behavior_data['scopeFrameStart'] = np.random.randint(0, matrix.shape[1] - 1, len(behavior_data))\n",
    "            shuffled_behavior_data['scopeFrameEnd'] = shuffled_behavior_data['scopeFrameStart'] + (behavior_data['scopeFrameEnd'] - behavior_data['scopeFrameStart']).values\n",
    "            behavior_onsets_shuffled = wws(shuffled_behavior_data, matrix.shape[1])\n",
    "            #print(behavior_onsets_shuffled)\n",
    "            shuffled_aurocs.append(roc_auc_score(behavior_onsets_shuffled, neuron_data))\n",
    "\n",
    "        auroc_matrix[i] = true_auroc\n",
    "        p_value_matrix[i] = (np.sum(shuffled_aurocs >= true_auroc) + 1) / (num_shuffles + 1)\n",
    "            \n",
    "    return auroc_matrix, p_value_matrix"
   ]
  },
  {
   "cell_type": "code",
   "execution_count": 9,
   "id": "447bef81",
   "metadata": {},
   "outputs": [
    {
     "name": "stdout",
     "output_type": "stream",
     "text": [
      "0\n",
      "1\n",
      "2\n",
      "3\n"
     ]
    }
   ],
   "source": [
    "auroc_matrices = []\n",
    "p_value_matrices = []\n",
    "for i, (C_array, boris1) in enumerate(zip(C_arrays, boris1s)):\n",
    "    print(i)\n",
    "    if i==0 or i==1:\n",
    "        auroc_matrix, p_value_matrix = qotaqbas(C_array, boris1, ['noncontact investigation', 'contact investigation'], num_shuffles = 100)\n",
    "    else:\n",
    "        auroc_matrix, p_value_matrix = qotaqbas(C_array, boris1, ['noncontact investigation right', 'contact investigation right'], num_shuffles = 100)\n",
    "    auroc_matrices.append(auroc_matrix)\n",
    "    p_value_matrices.append(p_value_matrix)"
   ]
  },
  {
   "cell_type": "code",
   "execution_count": 10,
   "id": "2e397e39",
   "metadata": {},
   "outputs": [],
   "source": [
    "import pdb  \n",
    "def ayagoz(matrices, p_values_thresh = 0.01):\n",
    "    bar_results = []  \n",
    "    for matrix in matrices:\n",
    "            matrix_bool = matrix < p_values_thresh\n",
    "            bar_results.append(matrix_bool)\n",
    "\n",
    "\n",
    "    return bar_results"
   ]
  },
  {
   "cell_type": "code",
   "execution_count": 11,
   "id": "5b0e2efa",
   "metadata": {},
   "outputs": [],
   "source": [
    "def dil (p_value_matrices):\n",
    "    sui = []  \n",
    "    for i in range(4):   \n",
    "        bar_results = ayagoz(p_value_matrices[i], p_values_thresh = 0.05)\n",
    "        howManyTrues = list(bar_results).count(True)\n",
    "        howManyTruesPercent = howManyTrues / len(bar_results)\n",
    "        sui.append(howManyTruesPercent)\n",
    "        #pdb.set_trace()\n",
    "        #print(sui)\n",
    "    return sui"
   ]
  },
  {
   "cell_type": "code",
   "execution_count": 12,
   "id": "c6b2650d",
   "metadata": {},
   "outputs": [
    {
     "name": "stdout",
     "output_type": "stream",
     "text": [
      "[0.21052631578947367, 0.21052631578947367, 0.35, 0.12903225806451613]\n"
     ]
    }
   ],
   "source": [
    "percent_significant_neuron = dil(p_value_matrices)\n",
    "print(percent_significant_neuron)"
   ]
  },
  {
   "cell_type": "code",
   "execution_count": 14,
   "id": "e4fee306",
   "metadata": {},
   "outputs": [],
   "source": [
    "sess_dir = '/Users/savva/Documents/GitHub/SMTB_2023/imaging/output/'\n",
    "save_dir = sess_dir + '5546_auroc_rightonly2.pkl'\n",
    "\n",
    "with open(save_dir, 'wb') as file:\n",
    "    pickle.dump([percent_significant_neuron], file)"
   ]
  },
  {
   "cell_type": "code",
   "execution_count": null,
   "id": "4c631498",
   "metadata": {},
   "outputs": [],
   "source": []
  }
 ],
 "metadata": {
  "kernelspec": {
   "display_name": "Python 3 (ipykernel)",
   "language": "python",
   "name": "python3"
  },
  "language_info": {
   "codemirror_mode": {
    "name": "ipython",
    "version": 3
   },
   "file_extension": ".py",
   "mimetype": "text/x-python",
   "name": "python",
   "nbconvert_exporter": "python",
   "pygments_lexer": "ipython3",
   "version": "3.11.4"
  }
 },
 "nbformat": 4,
 "nbformat_minor": 5
}
