{
 "cells": [
  {
   "cell_type": "code",
   "execution_count": null,
   "id": "f6461105",
   "metadata": {},
   "outputs": [],
   "source": [
    "import numpy as np\n",
    "\n",
    "def get_transient_timestamps_mod(neural_data, thresh_type=\"zscore\", std_thresh=5):\n",
    "    # Compute thresholds for each neuron.\n",
    "    neural_data = np.asarray(neural_data, dtype=np.float32)\n",
    "    stds = np.std(neural_data, axis=1)\n",
    "    means = np.mean(neural_data, axis=1)\n",
    "    thresh = means + std_thresh * stds\n",
    "    \n",
    "    # Get event times and magnitudes.\n",
    "    event_times = []\n",
    "    event_mags = []\n",
    "    bool_arr = []\n",
    "\n",
    "    for neuron, t in zip(neural_data, thresh):\n",
    "        event_indices = []\n",
    "        bool_indices = []\n",
    "\n",
    "        if thresh_type == \"zscore\":\n",
    "            for i in range(len(neuron)):\n",
    "                if neuron[i] > t:\n",
    "                    event_indices.append(i)\n",
    "                    bool_indices.append(neuron[i] > t)\n",
    "        elif thresh_type == \"zscore_localmax\":\n",
    "            for i in range(1, len(neuron) - 1):\n",
    "                if neuron[i] > t and neuron[i] > neuron[i - 1] and neuron[i] > neuron[i + 1]:\n",
    "                    event_indices.append(i)\n",
    "                    bool_indices.append(neuron[i] > t)\n",
    "        \n",
    "        event_times.append(np.array(event_indices))\n",
    "        event_mags.append(neuron[event_indices])\n",
    "        bool_arr.append(bool_indices)\n",
    "\n",
    "    return event_times, event_mags, bool_arr"
   ]
  }
 ],
 "metadata": {
  "kernelspec": {
   "display_name": "Python 3 (ipykernel)",
   "language": "python",
   "name": "python3"
  },
  "language_info": {
   "codemirror_mode": {
    "name": "ipython",
    "version": 3
   },
   "file_extension": ".py",
   "mimetype": "text/x-python",
   "name": "python",
   "nbconvert_exporter": "python",
   "pygments_lexer": "ipython3",
   "version": "3.9.17"
  }
 },
 "nbformat": 4,
 "nbformat_minor": 5
}
