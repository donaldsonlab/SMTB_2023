{
 "cells": [
  {
   "cell_type": "code",
   "execution_count": null,
   "id": "49618efd",
   "metadata": {},
   "outputs": [],
   "source": [
    "#make empty list\n",
    "# for every animal\n",
    "p_values_group = []\n",
    "# load variables from pickle\n",
    "file_name_animals = ['/Users/bla/filename.pkl', 'directory to animal 2']\n",
    "for file_name in file_name_animals:\n",
    "    with (file_name , 'rb') as file\n",
    "    p_values_animal = pickle.load(file)\n",
    "\n"
   ]
  },
  {
   "cell_type": "code",
   "execution_count": null,
   "id": "1e9d9adb",
   "metadata": {},
   "outputs": [],
   "source": [
    "# visualize here"
   ]
  }
 ],
 "metadata": {
  "kernelspec": {
   "display_name": "Python 3 (ipykernel)",
   "language": "python",
   "name": "python3"
  },
  "language_info": {
   "codemirror_mode": {
    "name": "ipython",
    "version": 3
   },
   "file_extension": ".py",
   "mimetype": "text/x-python",
   "name": "python",
   "nbconvert_exporter": "python",
   "pygments_lexer": "ipython3",
   "version": "3.11.4"
  }
 },
 "nbformat": 4,
 "nbformat_minor": 5
}
