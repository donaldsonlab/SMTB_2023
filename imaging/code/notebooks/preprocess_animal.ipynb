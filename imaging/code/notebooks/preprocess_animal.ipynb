{
 "cells": [
  {
   "cell_type": "code",
   "execution_count": 2,
   "id": "97ce340a",
   "metadata": {},
   "outputs": [],
   "source": [
    "import sys\n",
    "sys.path.append(\"scripts\")  # Add the path to the scripts folder\n",
    "#import script_file_1\n",
    "\n",
    "import h5py\n",
    "import pickle\n",
    "import os\n",
    "import pandas as pd\n"
   ]
  },
  {
   "cell_type": "code",
   "execution_count": 2,
   "id": "573171c0",
   "metadata": {},
   "outputs": [],
   "source": [
    "# create list of file_paths to loop over and extract data from \n",
    "sess_dir = 'C:/code/SMTB_2023/imaging/data/5546'\n",
    "\n",
    "save_dir = sess_dir + '/5546_total.pkl'"
   ]
  },
  {
   "cell_type": "code",
   "execution_count": 1,
   "id": "cd90dca6",
   "metadata": {},
   "outputs": [
    {
     "ename": "NameError",
     "evalue": "name 'h5py' is not defined",
     "output_type": "error",
     "traceback": [
      "\u001b[1;31m---------------------------------------------------------------------------\u001b[0m",
      "\u001b[1;31mNameError\u001b[0m                                 Traceback (most recent call last)",
      "Cell \u001b[1;32mIn[1], line 2\u001b[0m\n\u001b[0;32m      1\u001b[0m file_path \u001b[38;5;241m=\u001b[39m \u001b[38;5;124m'\u001b[39m\u001b[38;5;124mC:/code/SMTB_2023/imaging/data/5546/day14_corr08_pnr8_.hdf5\u001b[39m\u001b[38;5;124m'\u001b[39m\n\u001b[1;32m----> 2\u001b[0m \u001b[38;5;28;01mwith\u001b[39;00m \u001b[43mh5py\u001b[49m\u001b[38;5;241m.\u001b[39mFile(file_path, \u001b[38;5;124m'\u001b[39m\u001b[38;5;124mr\u001b[39m\u001b[38;5;124m'\u001b[39m) \u001b[38;5;28;01mas\u001b[39;00m hdf_file:\n\u001b[0;32m      3\u001b[0m     \u001b[38;5;28mprint\u001b[39m(hdf_file\u001b[38;5;241m.\u001b[39mkeys())\n\u001b[0;32m      4\u001b[0m     \u001b[38;5;28mprint\u001b[39m(hdf_file[\u001b[38;5;124m'\u001b[39m\u001b[38;5;124mestimates\u001b[39m\u001b[38;5;124m'\u001b[39m]\u001b[38;5;241m.\u001b[39mkeys())\n",
      "\u001b[1;31mNameError\u001b[0m: name 'h5py' is not defined"
     ]
    }
   ],
   "source": [
    "file_path = 'C:/code/SMTB_2023/imaging/data/5546/day14_corr08_pnr8_.hdf5'\n",
    "with h5py.File(file_path, 'r') as hdf_file:\n",
    "    print(hdf_file.keys())\n",
    "    print(hdf_file['estimates'].keys())\n",
    "    data = hdf_file['estimates']['C'][:]\n",
    "\n",
    "file_path_write = file_path.replace('.hdf5', '.pkl')\n",
    "with open(file_path_write, 'wb') as file:\n",
    "    pickle.dump(data, file)"
   ]
  },
  {
   "cell_type": "code",
   "execution_count": null,
   "id": "40fa559b",
   "metadata": {},
   "outputs": [],
   "source": [
    "# RUN TIMESTAMP_CONCAT_ALIGN.IPYNB"
   ]
  },
  {
   "cell_type": "code",
   "execution_count": 4,
   "id": "f8c6806c",
   "metadata": {},
   "outputs": [],
   "source": [
    "# now load both pkls and combine them into one \n",
    "behavior_output_path = sess_dir + '/day14_forCaiman.pkl'\n",
    "with open(behavior_output_path, 'rb') as file:\n",
    "    cv, boris1 = pickle.load(file)\n",
    "with open(file_path_write, 'rb') as file:\n",
    "    C_array = pickle.load(file)\n",
    "\n",
    "    \n",
    "file_path_total = file_path_write.replace('.pkl', 'total.pkl')\n",
    "with open(file_path_total, 'wb') as f:\n",
    "    pickle.dump([C_array, cv, boris1], f)"
   ]
  },
  {
   "cell_type": "code",
   "execution_count": null,
   "id": "e5578261",
   "metadata": {},
   "outputs": [],
   "source": []
  }
 ],
 "metadata": {
  "kernelspec": {
   "display_name": "Python 3 (ipykernel)",
   "language": "python",
   "name": "python3"
  },
  "language_info": {
   "codemirror_mode": {
    "name": "ipython",
    "version": 3
   },
   "file_extension": ".py",
   "mimetype": "text/x-python",
   "name": "python",
   "nbconvert_exporter": "python",
   "pygments_lexer": "ipython3",
   "version": "3.10.8"
  }
 },
 "nbformat": 4,
 "nbformat_minor": 5
}
