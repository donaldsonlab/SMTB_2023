{
 "cells": [
  {
   "cell_type": "code",
   "execution_count": 1,
   "id": "97ce340a",
   "metadata": {},
   "outputs": [],
   "source": [
    "import sys\n",
    "sys.path.append(\"scripts\")  # Add the path to the scripts folder\n",
    "#import script_file_1\n",
    "\n",
    "import h5py\n",
    "import pickle\n",
    "import os\n",
    "import pandas as pd\n"
   ]
  },
  {
   "cell_type": "code",
   "execution_count": 2,
   "id": "573171c0",
   "metadata": {},
   "outputs": [],
   "source": [
    "# create list of file_paths to loop over and extract data from \n",
    "sess_dir = 'C:/code/SMTB_2023/imaging/data/5546'\n",
    "\n",
    "save_dir = sess_dir + '/5546_total.pkl'"
   ]
  },
  {
   "cell_type": "code",
   "execution_count": 3,
   "id": "cd90dca6",
   "metadata": {},
   "outputs": [
    {
     "name": "stdout",
     "output_type": "stream",
     "text": [
      "<KeysViewHDF5 ['dims', 'dview', 'estimates', 'params', 'remove_very_bad_comps', 'skip_refinement']>\n",
      "<KeysViewHDF5 ['A', 'A_thr', 'Ab', 'Ab_dense', 'AtA', 'AtY_buf', 'C', 'CC', 'CY', 'C_on', 'Cf', 'F_dff', 'OASISinstances', 'R', 'S', 'SNR_comp', 'W', 'YrA', 'Yr_buf', 'b', 'b0', 'bl', 'c1', 'center', 'cnn_preds', 'dims', 'discarded_components', 'ecc', 'f', 'g', 'idx_components', 'idx_components_bad', 'ind_new', 'lam', 'mn', 'neurons_sn', 'noisyC', 'nr', 'r_values', 'rho_buf', 'shifts', 'sn', 'sv', 'vr']>\n"
     ]
    }
   ],
   "source": [
    "file_path = 'C:/code/SMTB_2023/imaging/data/5546/day14_corr08_pnr8_.hdf5'\n",
    "with h5py.File(file_path, 'r') as hdf_file:\n",
    "    print(hdf_file.keys())\n",
    "    print(hdf_file['estimates'].keys())\n",
    "    data = hdf_file['estimates']['C'][:]\n",
    "\n",
    "file_path_write = file_path.replace('.hdf5', '.pkl')\n",
    "with open(file_path_write, 'wb') as file:\n",
    "    pickle.dump(data, file)"
   ]
  },
  {
   "cell_type": "code",
   "execution_count": null,
   "id": "40fa559b",
   "metadata": {},
   "outputs": [],
   "source": [
    "# RUN TIMESTAMP_CONCAT_ALIGN.IPYNB"
   ]
  },
  {
   "cell_type": "code",
   "execution_count": 4,
   "id": "f8c6806c",
   "metadata": {},
   "outputs": [],
   "source": [
    "# now load both pkls and combine them into one \n",
    "behavior_output_path = sess_dir + '/day14_forCaiman.pkl'\n",
    "with open(behavior_output_path, 'rb') as file:\n",
    "    cv, boris1 = pickle.load(file)\n",
    "with open(file_path_write, 'rb') as file:\n",
    "    C_array = pickle.load(file)\n",
    "\n",
    "    \n",
    "file_path_total = file_path_write.replace('.pkl', 'total.pkl')\n",
    "with open(file_path_total, 'wb') as f:\n",
    "    pickle.dump([C_array, cv, boris1], f)"
   ]
  },
  {
   "cell_type": "code",
   "execution_count": null,
   "id": "e5578261",
   "metadata": {},
   "outputs": [],
   "source": []
  }
 ],
 "metadata": {
  "kernelspec": {
   "display_name": "Python 3 (ipykernel)",
   "language": "python",
   "name": "python3"
  },
  "language_info": {
   "codemirror_mode": {
    "name": "ipython",
    "version": 3
   },
   "file_extension": ".py",
   "mimetype": "text/x-python",
   "name": "python",
   "nbconvert_exporter": "python",
   "pygments_lexer": "ipython3",
   "version": "3.11.4"
  }
 },
 "nbformat": 4,
 "nbformat_minor": 5
}
